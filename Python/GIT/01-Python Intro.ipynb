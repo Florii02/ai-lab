{
 "cells": [
  {
   "cell_type": "markdown",
   "metadata": {},
   "source": [
    "<h1>\n",
    "    <font color='blue'>1 - Python Intro</font>\n",
    "</h1> "
   ]
  },
  {
   "cell_type": "markdown",
   "metadata": {},
   "source": [
    "<h1>\n",
    "    <font color='light blue'>Objective of the course</font>\n",
    "</h1> \n",
    "<ul>\n",
    "<li>Solving a problem with a computer, we must first convert it to a program.</li> \n",
    "<li>We do this by using a programming language - a formal language with strict rules about syntax (and semantics).</li> \n",
    "<li>In this course we will be using the Python programming language, but there are many other languages such as Java, C#, C, C++, ...</li>\n",
    "<li>The objective of this course is to get to know the Python language and the potential of its field of application.</li> \n",
    "</ul>"
   ]
  },
  {
   "cell_type": "markdown",
   "metadata": {},
   "source": [
    "<h1>\n",
    "    <font color='light blue'>Programming Languages</font>\n",
    "</h1> \n",
    "<ol>\n",
    "    <li> Procedural languages such as FORTRAN (1957), COBOL (1959), BASIC (1964), C (1972)</li> \n",
    "    <li> Functional and logic languages such as Lisp (1958) (A functional language is based on mathematical functions), PROLOG (1972) (A logic language is based on formal rules of logic and inference)</li> \n",
    "    <li> Object-oriented languages such as C++ (1985), Python (1990), Java (1995), C# (2000) (Object-oriented paradigm introduces information hiding by classes and objects as well as polymorphism)</li> \n",
    "<li> Languages for  statistical computing such as R (1997)</li> \n",
    "</ol>"
   ]
  },
  {
   "cell_type": "markdown",
   "metadata": {},
   "source": [
    "<h1>\n",
    "    <font color='light blue'>Python Source Code Editing</font>\n",
    "</h1> \n",
    "<ul>\n",
    "<li>Python source code can be executed by writing directly in the Code Cell of Jupyter Notebook.</li> \n",
    "<li>Python source code can be executed by writing a python file, using the .py file extension, and running it in the Command Line: C:\\Users\\Your Name>python myfile.py\n",
    ".</li> \n",
    "<li>Python source code can be executed by using an IDE managing the development phase of the software lifecycle.</li>\n",
    "</ul>"
   ]
  },
  {
   "cell_type": "markdown",
   "metadata": {},
   "source": [
    "<h1>\n",
    "    <font color='light blue'>Compilers and Interpreters and the Python Programming Language</font>\n",
    "</h1> \n",
    "<ul>\n",
    "<li> We will type a lot of source code fragments into an editor and execute these fragments.</li>   \n",
    "<li>A Compiler usually converts the human readable source code unambiguously into computer instructions, or machine language. </li>\n",
    "<li>Encoding native machine code even assembler code directly is an exhausting, error prone work.</li>\n",
    "<li>A program written in a high-level language must be translated into machine language before a computer can execute it.</li> \n",
    "<li>Some programming languages translate the source code at once and store the results in another file which is then executed.</li> \n",
    "<li>Some languages translate and execute programs line-by-line.</li> \n",
    "<li>We call these languages compiled languages and interpreted languages, respectively.</li> \n",
    "<li>Python is an interpreted language.</li>\n",
    "</ul>"
   ]
  }
 ],
 "metadata": {
  "celltoolbar": "Raw Cell Format",
  "kernelspec": {
   "display_name": "Python 3",
   "language": "python",
   "name": "python3"
  },
  "language_info": {
   "codemirror_mode": {
    "name": "ipython",
    "version": 3
   },
   "file_extension": ".py",
   "mimetype": "text/x-python",
   "name": "python",
   "nbconvert_exporter": "python",
   "pygments_lexer": "ipython3",
   "version": "3.8.8"
  }
 },
 "nbformat": 4,
 "nbformat_minor": 2
}
