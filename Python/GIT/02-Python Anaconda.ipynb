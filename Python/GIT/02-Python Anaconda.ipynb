{
 "cells": [
  {
   "cell_type": "markdown",
   "metadata": {},
   "source": [
    "<h1>\n",
    "    <font color='light blue'>2 - Python and Anaconda</font>\n",
    "</h1> \n",
    "<code>\n",
    "The open-source Anaconda Distribution is an easy way to perform Python/R data science and machine learning on Linux,\n",
    "Windows, and Mac OS X.\n",
    "Link zum Download: https://www.anaconda.com/\n",
    "</code>"
   ]
  }
 ],
 "metadata": {
  "kernelspec": {
   "display_name": "Python 3",
   "language": "python",
   "name": "python3"
  },
  "language_info": {
   "codemirror_mode": {
    "name": "ipython",
    "version": 3
   },
   "file_extension": ".py",
   "mimetype": "text/x-python",
   "name": "python",
   "nbconvert_exporter": "python",
   "pygments_lexer": "ipython3",
   "version": "3.7.7"
  }
 },
 "nbformat": 4,
 "nbformat_minor": 2
}
