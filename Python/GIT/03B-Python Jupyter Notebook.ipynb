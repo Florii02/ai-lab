{
 "cells": [
  {
   "cell_type": "markdown",
   "metadata": {},
   "source": [
    "# Notebooks hinzufügen\n",
    "\n",
    "Es gibt zwei verschiedene Möglichkeiten Notebooks in jupyter zu laden.\n",
    "\n",
    "1. Man kann die ipynb-Datei direkt ins Verzeichnis kopieren. Das Standard Verzeichnis ist hierbei C/Benutzer/Benutzername.\n",
    "2. Man kann die ipynb-Datei ebenfalls über den Upload Button oben rechts im Hauptmenu einfügen. Einfach Datei auswählen und diese wird anschließend in den Benutzerordner eingefügt.\n",
    "\n",
    "# Notebooks herunterladen\n",
    "\n",
    "File->Download as->Notebook(.ipynb)"
   ]
  },
  {
   "cell_type": "code",
   "execution_count": null,
   "metadata": {},
   "outputs": [],
   "source": []
  }
 ],
 "metadata": {
  "kernelspec": {
   "display_name": "Python 3",
   "language": "python",
   "name": "python3"
  },
  "language_info": {
   "codemirror_mode": {
    "name": "ipython",
    "version": 3
   },
   "file_extension": ".py",
   "mimetype": "text/x-python",
   "name": "python",
   "nbconvert_exporter": "python",
   "pygments_lexer": "ipython3",
   "version": "3.7.7"
  }
 },
 "nbformat": 4,
 "nbformat_minor": 2
}
