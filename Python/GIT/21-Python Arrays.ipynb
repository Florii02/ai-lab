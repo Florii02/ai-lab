{
 "cells": [
  {
   "cell_type": "markdown",
   "metadata": {},
   "source": [
    "# Python Arrays\n",
    "\n",
    "https://www.w3schools.com/python/python_arrays.asp\n",
    "\n",
    "Note: Python does not have built-in support for Arrays, but Python Lists can be used instead.\n",
    "\n",
    "# Arrays\n",
    "\n",
    "Arrays are used to store multiple values in one single variable:\n",
    "\n",
    "Create an array containing car names:"
   ]
  },
  {
   "cell_type": "code",
   "execution_count": 1,
   "metadata": {},
   "outputs": [],
   "source": [
    "cars = [\"Ford\", \"Volvo\", \"BMW\"] "
   ]
  },
  {
   "cell_type": "markdown",
   "metadata": {},
   "source": [
    "# What is an Array?\n",
    "\n",
    "An array is a special variable, which can hold more than one value at a time.\n",
    "\n",
    "If you have a list of items (a list of car names, for example), storing the cars in single variables could look like this:\n",
    "\n"
   ]
  },
  {
   "cell_type": "code",
   "execution_count": 2,
   "metadata": {},
   "outputs": [],
   "source": [
    "car1 = \"Ford\"\n",
    "car2 = \"Volvo\"\n",
    "car3 = \"BMW\""
   ]
  },
  {
   "cell_type": "markdown",
   "metadata": {},
   "source": [
    "However, what if you want to loop through the cars and find a specific one? And what if you had not 3 cars, but 300?\n",
    "\n",
    "The solution is an array!\n",
    "\n",
    "An array can hold many values under a single name, and you can access the values by referring to an index number.\n",
    "\n",
    "# Access the Elements of an Array\n",
    "\n",
    "You refer to an array element by referring to the index number.\n",
    "\n",
    "Get the value of the first array item:"
   ]
  },
  {
   "cell_type": "code",
   "execution_count": 3,
   "metadata": {},
   "outputs": [],
   "source": [
    "x = cars[0] "
   ]
  },
  {
   "cell_type": "markdown",
   "metadata": {},
   "source": [
    "Modify the value of the first array item:"
   ]
  },
  {
   "cell_type": "code",
   "execution_count": 4,
   "metadata": {},
   "outputs": [],
   "source": [
    "cars[0] = \"Toyota\""
   ]
  },
  {
   "cell_type": "markdown",
   "metadata": {},
   "source": [
    "# The Length of an Array\n",
    "\n",
    "Use the len() method to return the length of an array (the number of elements in an array).\n",
    "\n",
    "Return the number of elements in the cars array:"
   ]
  },
  {
   "cell_type": "code",
   "execution_count": 5,
   "metadata": {},
   "outputs": [],
   "source": [
    "x = len(cars) "
   ]
  },
  {
   "cell_type": "markdown",
   "metadata": {},
   "source": [
    "Note: The length of an array is always one more than the highest array index.\n",
    "\n",
    "# Looping Array Elements\n",
    "\n",
    "You can use the for in loop to loop through all the elements of an array.\n",
    "\n",
    "Print each item in the cars array:"
   ]
  },
  {
   "cell_type": "code",
   "execution_count": 6,
   "metadata": {},
   "outputs": [
    {
     "name": "stdout",
     "output_type": "stream",
     "text": [
      "Toyota\n",
      "Volvo\n",
      "BMW\n"
     ]
    }
   ],
   "source": [
    "for x in cars:\n",
    "  print(x) "
   ]
  },
  {
   "cell_type": "markdown",
   "metadata": {},
   "source": [
    "# Adding Array Elements\n",
    "\n",
    "You can use the append() method to add an element to an array.\n",
    "\n",
    "Add one more element to the cars array:"
   ]
  },
  {
   "cell_type": "code",
   "execution_count": 7,
   "metadata": {},
   "outputs": [],
   "source": [
    "cars.append(\"Honda\") "
   ]
  },
  {
   "cell_type": "markdown",
   "metadata": {},
   "source": [
    "# Removing Array Elements\n",
    "\n",
    "You can use the pop() method to remove an element from the array.\n",
    "\n",
    "Delete the second element of the cars array:"
   ]
  },
  {
   "cell_type": "code",
   "execution_count": 8,
   "metadata": {},
   "outputs": [
    {
     "data": {
      "text/plain": [
       "'Volvo'"
      ]
     },
     "execution_count": 8,
     "metadata": {},
     "output_type": "execute_result"
    }
   ],
   "source": [
    "cars.pop(1) "
   ]
  },
  {
   "cell_type": "markdown",
   "metadata": {},
   "source": [
    "You can also use the remove() method to remove an element from the array.\n",
    "\n",
    "Delete the element that has the value \"Toyota\":"
   ]
  },
  {
   "cell_type": "code",
   "execution_count": 10,
   "metadata": {},
   "outputs": [],
   "source": [
    "cars.remove(\"Toyota\") "
   ]
  },
  {
   "cell_type": "markdown",
   "metadata": {},
   "source": [
    "Note: The list's remove() method only removes the first occurrence of the specified value.\n",
    "\n",
    "# Array Methods\n",
    "\n",
    "Python has a set of built-in methods that you can use on lists/arrays."
   ]
  },
  {
   "cell_type": "code",
   "execution_count": 15,
   "metadata": {},
   "outputs": [
    {
     "name": "stdout",
     "output_type": "stream",
     "text": [
      "['BMW', 'Ferrari', 'Ferrari', 'Honda', 'VW', 'VW', 'VW', 'VW', 'VW']\n",
      "['BMW', 'Ferrari', 'Ferrari', 'Honda', 'VW', 'VW', 'VW', 'VW', 'VW']\n",
      "[]\n",
      "5\n",
      "['BMW', 'Ferrari', 'Ferrari', 'Honda', 'VW', 'VW', 'VW', 'VW', 'VW', 'Ferrari', 'BMW']\n",
      "0\n",
      "['BMW', 'Mercedes', 'Ferrari', 'Ferrari', 'Honda', 'VW', 'VW', 'VW', 'VW', 'VW', 'Ferrari', 'BMW']\n",
      "['Mercedes', 'Ferrari', 'Ferrari', 'Honda', 'VW', 'VW', 'VW', 'VW', 'VW', 'Ferrari', 'BMW']\n",
      "['Ferrari', 'Ferrari', 'Honda', 'VW', 'VW', 'VW', 'VW', 'VW', 'Ferrari', 'BMW']\n",
      "['BMW', 'Ferrari', 'VW', 'VW', 'VW', 'VW', 'VW', 'Honda', 'Ferrari', 'Ferrari']\n",
      "['BMW', 'Ferrari', 'Ferrari', 'Ferrari', 'Honda', 'VW', 'VW', 'VW', 'VW', 'VW']\n"
     ]
    }
   ],
   "source": [
    "cars.append(\"VW\") #Adds an element at the end of the list\n",
    "print(cars)\n",
    "cars2 = cars.copy()#Returns a copy of the list\n",
    "print(cars2)\n",
    "cars2.clear()#Removes all the elements from the list\n",
    "print(cars2)\n",
    "a=cars.count(\"VW\")#Returns the number of elements with the specified value\n",
    "print(a)\n",
    "cars.extend([\"Ferrari\", \"BMW\"])#Add the elements of a list (or any iterable), to the end of the current list\n",
    "print(cars)\n",
    "a=cars.index(\"BMW\")#Returns the index of the first element with the specified value\n",
    "print(a)\n",
    "cars.insert(1, \"Mercedes\")#Adds an element at the specified position\n",
    "print(cars)\n",
    "cars.pop(0)#Removes the element at the specified position\n",
    "print(cars)\n",
    "cars.remove(\"Mercedes\")#Removes the first item with the specified value\n",
    "print(cars)\n",
    "cars.reverse()#Reverses the order of the list\n",
    "print(cars)\n",
    "cars.sort()#Sorts the list\n",
    "print(cars)"
   ]
  },
  {
   "cell_type": "code",
   "execution_count": null,
   "metadata": {},
   "outputs": [],
   "source": []
  }
 ],
 "metadata": {
  "kernelspec": {
   "display_name": "Python 3",
   "language": "python",
   "name": "python3"
  },
  "language_info": {
   "codemirror_mode": {
    "name": "ipython",
    "version": 3
   },
   "file_extension": ".py",
   "mimetype": "text/x-python",
   "name": "python",
   "nbconvert_exporter": "python",
   "pygments_lexer": "ipython3",
   "version": "3.7.3"
  }
 },
 "nbformat": 4,
 "nbformat_minor": 2
}
