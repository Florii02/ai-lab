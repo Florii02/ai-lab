{
 "cells": [
  {
   "cell_type": "markdown",
   "metadata": {},
   "source": [
    "# Python Datetime\n",
    "\n",
    "https://www.w3schools.com/python/python_datetime.asp\n",
    "\n",
    "\n",
    "# Python Dates\n",
    "\n",
    "A date in Python is not a data type of its own, but we can import a module named datetime to work with dates as date objects.\n",
    "\n",
    "Import the datetime module and display the current date:"
   ]
  },
  {
   "cell_type": "code",
   "execution_count": 1,
   "metadata": {},
   "outputs": [
    {
     "name": "stdout",
     "output_type": "stream",
     "text": [
      "2019-11-04 15:45:08.235472\n"
     ]
    }
   ],
   "source": [
    "import datetime\n",
    "\n",
    "x = datetime.datetime.now()\n",
    "print(x) "
   ]
  },
  {
   "cell_type": "markdown",
   "metadata": {},
   "source": [
    "# Date Output\n",
    "\n",
    "When we execute the code from the example above the result will be:\n",
    "2019-11-04 15:44:12.282672\n",
    "\n",
    "The date contains year, month, day, hour, minute, second, and microsecond.\n",
    "\n",
    "The datetime module has many methods to return information about the date object.\n",
    "\n",
    "Here are a few examples, you will learn more about them later in this chapter:\n",
    "\n",
    "Return the year and name of weekday:"
   ]
  },
  {
   "cell_type": "code",
   "execution_count": 2,
   "metadata": {},
   "outputs": [
    {
     "name": "stdout",
     "output_type": "stream",
     "text": [
      "2019\n",
      "Monday\n"
     ]
    }
   ],
   "source": [
    "import datetime\n",
    "\n",
    "x = datetime.datetime.now()\n",
    "\n",
    "print(x.year)\n",
    "print(x.strftime(\"%A\")) "
   ]
  },
  {
   "cell_type": "markdown",
   "metadata": {},
   "source": [
    "# Creating Date Objects\n",
    "\n",
    "To create a date, we can use the datetime() class (constructor) of the datetime module.\n",
    "\n",
    "The datetime() class requires three parameters to create a date: year, month, day.\n",
    "\n",
    "Create a date object:"
   ]
  },
  {
   "cell_type": "code",
   "execution_count": 3,
   "metadata": {},
   "outputs": [
    {
     "name": "stdout",
     "output_type": "stream",
     "text": [
      "2020-05-17 00:00:00\n"
     ]
    }
   ],
   "source": [
    "import datetime\n",
    "\n",
    "x = datetime.datetime(2020, 5, 17)\n",
    "\n",
    "print(x) "
   ]
  },
  {
   "cell_type": "markdown",
   "metadata": {},
   "source": [
    "The datetime() class also takes parameters for time and timezone (hour, minute, second, microsecond, tzone), but they are optional, and has a default value of 0, (None for timezone).\n",
    "\n",
    "# The strftime() Method\n",
    "\n",
    "The datetime object has a method for formatting date objects into readable strings.\n",
    "\n",
    "The method is called strftime(), and takes one parameter, format, to specify the format of the returned string:\n",
    "\n",
    "Display the name of the month:"
   ]
  },
  {
   "cell_type": "code",
   "execution_count": 4,
   "metadata": {},
   "outputs": [
    {
     "name": "stdout",
     "output_type": "stream",
     "text": [
      "June\n"
     ]
    }
   ],
   "source": [
    "import datetime\n",
    "\n",
    "x = datetime.datetime(2018, 6, 1)\n",
    "\n",
    "print(x.strftime(\"%B\")) "
   ]
  },
  {
   "cell_type": "markdown",
   "metadata": {},
   "source": [
    "A reference of all the legal format codes:\n"
   ]
  },
  {
   "cell_type": "code",
   "execution_count": 5,
   "metadata": {},
   "outputs": [
    {
     "name": "stdout",
     "output_type": "stream",
     "text": [
      "Fri\n",
      "Friday\n",
      "5\n",
      "01\n",
      "Jun\n",
      "June\n",
      "06\n",
      "18\n",
      "2018\n",
      "00\n",
      "12\n",
      "AM\n",
      "00\n",
      "00\n",
      "000000\n",
      "\n",
      "\n",
      "152\n",
      "21\n",
      "22\n",
      "Fri Jun  1 00:00:00 2018\n",
      "06/01/18\n",
      "00:00:00\n",
      "%\n"
     ]
    }
   ],
   "source": [
    "print(x.strftime(\"%a\")) # Weekday, short version\n",
    "print(x.strftime(\"%A\")) # Weekday, full version\n",
    "print(x.strftime(\"%w\")) # Weekday as a number 0-6, 0 is Sunday\n",
    "print(x.strftime(\"%d\")) # Day of month 01-31\n",
    "print(x.strftime(\"%b\")) # Month name, short version\n",
    "print(x.strftime(\"%B\")) # Month name, full version\n",
    "print(x.strftime(\"%m\")) # Month as a number 01-12\n",
    "print(x.strftime(\"%y\")) # Year, short version, without century\n",
    "print(x.strftime(\"%Y\")) # Year, full version\n",
    "print(x.strftime(\"%H\")) # Hour 00-23\n",
    "print(x.strftime(\"%I\")) # Hour 00-12\n",
    "print(x.strftime(\"%p\")) # AM/PM\n",
    "print(x.strftime(\"%M\")) # Minute 00-59\n",
    "print(x.strftime(\"%S\")) # Second 00-59\n",
    "print(x.strftime(\"%f\")) # Microsecond 000000-999999\n",
    "print(x.strftime(\"%z\")) # UTC offset\n",
    "print(x.strftime(\"%Z\")) # Timezone\n",
    "print(x.strftime(\"%j\")) # Day number of year 001-366\n",
    "print(x.strftime(\"%U\")) # Week number of year, Sunday as the first day of week, 00-53\n",
    "print(x.strftime(\"%W\")) # Week number of year, Monday as the first day of week, 00-53\n",
    "print(x.strftime(\"%c\")) # Local version of date and time\n",
    "print(x.strftime(\"%x\")) # Local version of date\n",
    "print(x.strftime(\"%X\")) # Local version of time\n",
    "print(x.strftime(\"%%\")) # A % character"
   ]
  },
  {
   "cell_type": "code",
   "execution_count": null,
   "metadata": {},
   "outputs": [],
   "source": []
  }
 ],
 "metadata": {
  "kernelspec": {
   "display_name": "Python 3",
   "language": "python",
   "name": "python3"
  },
  "language_info": {
   "codemirror_mode": {
    "name": "ipython",
    "version": 3
   },
   "file_extension": ".py",
   "mimetype": "text/x-python",
   "name": "python",
   "nbconvert_exporter": "python",
   "pygments_lexer": "ipython3",
   "version": "3.7.3"
  }
 },
 "nbformat": 4,
 "nbformat_minor": 2
}
