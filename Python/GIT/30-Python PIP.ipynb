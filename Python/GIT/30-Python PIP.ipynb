{
 "cells": [
  {
   "cell_type": "markdown",
   "metadata": {},
   "source": [
    "# Python PIP\n",
    "\n",
    "https://www.w3schools.com/python/python_pip.asp\n",
    "\n",
    "# What is PIP?\n",
    "\n",
    "PIP is a package manager for Python packages, or modules if you like.\n",
    "\n",
    "Note: If you have Python version 3.4 or later, PIP is included by default.\n",
    "\n",
    "# What is a Package?\n",
    "\n",
    "A package contains all the files you need for a module.\n",
    "\n",
    "Modules are Python code libraries you can include in your project.\n",
    "\n",
    "# Check if PIP is Installed\n",
    "\n",
    "Navigate your command line to the location of Python's script directory, and type the following:\n",
    "\n",
    "Check PIP version:\n",
    "C:\\Users\\Your Name\\AppData\\Local\\Programs\\Python\\Python36-32\\Scripts>pip --version \n",
    "\n",
    "# Install PIP\n",
    "\n",
    "If you do not have PIP installed, you can download and install it from this page: https://pypi.org/project/pip/\n",
    "Download a Package\n",
    "\n",
    "# Downloading a package is very easy.\n",
    "\n",
    "Open the command line interface and tell PIP to download the package you want.\n",
    "\n",
    "Navigate your command line to the location of Python's script directory, and type the following:\n",
    "\n",
    "Download a package named \"camelcase\":\n",
    "C:\\Users\\Your Name\\AppData\\Local\\Programs\\Python\\Python36-32\\Scripts>pip install camelcase\n",
    "\n",
    "Now you have downloaded and installed your first package!\n",
    "\n",
    "Using a Package\n",
    "\n",
    "Once the package is installed, it is ready to use.\n",
    "\n",
    "Import the \"camelcase\" package into your project.\n",
    "\n",
    "Import and use \"camelcase\":"
   ]
  },
  {
   "cell_type": "code",
   "execution_count": 1,
   "metadata": {},
   "outputs": [
    {
     "ename": "ModuleNotFoundError",
     "evalue": "No module named 'camelcase'",
     "output_type": "error",
     "traceback": [
      "\u001b[1;31m---------------------------------------------------------------------------\u001b[0m",
      "\u001b[1;31mModuleNotFoundError\u001b[0m                       Traceback (most recent call last)",
      "\u001b[1;32m<ipython-input-1-f673a6d0aa79>\u001b[0m in \u001b[0;36m<module>\u001b[1;34m\u001b[0m\n\u001b[1;32m----> 1\u001b[1;33m \u001b[1;32mimport\u001b[0m \u001b[0mcamelcase\u001b[0m\u001b[1;33m\u001b[0m\u001b[1;33m\u001b[0m\u001b[0m\n\u001b[0m\u001b[0;32m      2\u001b[0m \u001b[1;33m\u001b[0m\u001b[0m\n\u001b[0;32m      3\u001b[0m \u001b[0mc\u001b[0m \u001b[1;33m=\u001b[0m \u001b[0mcamelcase\u001b[0m\u001b[1;33m.\u001b[0m\u001b[0mCamelCase\u001b[0m\u001b[1;33m(\u001b[0m\u001b[1;33m)\u001b[0m\u001b[1;33m\u001b[0m\u001b[1;33m\u001b[0m\u001b[0m\n\u001b[0;32m      4\u001b[0m \u001b[1;33m\u001b[0m\u001b[0m\n\u001b[0;32m      5\u001b[0m \u001b[0mtxt\u001b[0m \u001b[1;33m=\u001b[0m \u001b[1;34m\"hello world\"\u001b[0m\u001b[1;33m\u001b[0m\u001b[1;33m\u001b[0m\u001b[0m\n",
      "\u001b[1;31mModuleNotFoundError\u001b[0m: No module named 'camelcase'"
     ]
    }
   ],
   "source": [
    "import camelcase\n",
    "\n",
    "c = camelcase.CamelCase()\n",
    "\n",
    "txt = \"hello world\"\n",
    "\n",
    "print(c.hump(txt)) "
   ]
  },
  {
   "cell_type": "markdown",
   "metadata": {},
   "source": [
    "# Find Packages\n",
    "\n",
    "Find more packages at https://pypi.org/.\n",
    "\n",
    "# Remove a Package\n",
    "\n",
    "Use the uninstall command to remove a package:\n",
    "\n",
    "Uninstall the package named \"camelcase\":\n",
    "C:\\Users\\Your Name\\AppData\\Local\\Programs\\Python\\Python36-32\\Scripts>pip uninstall camelcase\n",
    "\n",
    "The PIP Package Manager will ask you to confirm that you want to remove the camelcase package:\n",
    "Uninstalling camelcase-02.1:\n",
    "  Would remove:\n",
    "    c:\\users\\Your Name\\appdata\\local\\programs\\python\\python36-32\\lib\\site-packages\\camecase-0.2-py3.6.egg-info\n",
    "    c:\\users\\Your Name\\appdata\\local\\programs\\python\\python36-32\\lib\\site-packages\\camecase\\*\n",
    "Proceed (y/n)?\n",
    "\n",
    "Press y and the package will be removed.\n",
    "\n",
    "# List Packages\n",
    "\n",
    "Use the list command to list all the packages installed on your system:\n",
    "\n",
    "List installed packages:\n",
    "C:\\Users\\Your Name\\AppData\\Local\\Programs\\Python\\Python36-32\\Scripts>pip list\n",
    "\n",
    "Result:\n",
    "\n",
    "| Package | Version |\n",
    "| --- | --- |\n",
    "| camelcase | 0.2 |\n",
    "| mysql-connector | 2.1.6 |\n",
    "| pip | 18.1 |\n",
    "| pymongo | 3.6.1 |\n",
    "| setuptools | 39.0.1 |"
   ]
  },
  {
   "cell_type": "code",
   "execution_count": null,
   "metadata": {},
   "outputs": [],
   "source": []
  }
 ],
 "metadata": {
  "kernelspec": {
   "display_name": "Python 3",
   "language": "python",
   "name": "python3"
  },
  "language_info": {
   "codemirror_mode": {
    "name": "ipython",
    "version": 3
   },
   "file_extension": ".py",
   "mimetype": "text/x-python",
   "name": "python",
   "nbconvert_exporter": "python",
   "pygments_lexer": "ipython3",
   "version": "3.7.3"
  }
 },
 "nbformat": 4,
 "nbformat_minor": 2
}
